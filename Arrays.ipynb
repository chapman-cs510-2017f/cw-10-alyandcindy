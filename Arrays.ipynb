{
 "cells": [
  {
   "cell_type": "markdown",
   "metadata": {
    "collapsed": false
   },
   "source": [
    "Name: Aly Baughman, Cynthia Parks\n",
    "Student ID: 1923165, 2303535\n",
    "Email: baugh107@mail.chapman.edu, cparks@chapman.edu\n",
    "Course: CS510 Fall 2017\n",
    "Assignment: Classwork 10"
   ]
  },
  {
   "cell_type": "markdown",
   "metadata": {
    "collapsed": false
   },
   "source": [
    "## Arrays.c"
   ]
  },
  {
   "cell_type": "markdown",
   "metadata": {
    "collapsed": false
   },
   "source": [
    "The arrays.c program shows how accessing an array can be done both by indexing and by accessing its location in memory.  First it creates an empty array with a set size.  It then explicitely allocates memory to set up the same array.  Next an array of characters is created from the string \"Foo bar .\"  Numbers are then filled into the empty array and the memory allocated array.  Finally, we loop through and print the values in each array.  We see that both the regular array print and the memory location print give us the same values for both integers and characters.  "
   ]
  },
  {
   "cell_type": "markdown",
   "metadata": {
    "collapsed": false
   },
   "source": [
    "###### **Arrays with Floats**"
   ]
  },
  {
   "cell_type": "code",
   "execution_count": 1,
   "metadata": {
    "collapsed": false
   },
   "outputs": [
    {
     "name": "stdout",
     "output_type": "stream",
     "text": [
      "array[0] : 0.000000\t*(memblock + 0) : 0.000000\tfoo[0] : F\t*(foo + 0) : F\n"
     ]
    },
    {
     "name": "stdout",
     "output_type": "stream",
     "text": [
      "array[1] : 1.000000\t*(memblock + 1) : 1.000000\tfoo[1] : o\t*(foo + 1) : o\n"
     ]
    },
    {
     "name": "stdout",
     "output_type": "stream",
     "text": [
      "array[2] : 2.000000\t*(memblock + 2) : 2.000000\tfoo[2] : o\t*(foo + 2) : o\n"
     ]
    },
    {
     "name": "stdout",
     "output_type": "stream",
     "text": [
      "array[3] : 3.000000\t*(memblock + 3) : 3.000000\tfoo[3] :  \t*(foo + 3) :  \n"
     ]
    },
    {
     "name": "stdout",
     "output_type": "stream",
     "text": [
      "array[4] : 4.000000\t*(memblock + 4) : 4.000000\tfoo[4] : b\t*(foo + 4) : b\n"
     ]
    },
    {
     "name": "stdout",
     "output_type": "stream",
     "text": [
      "array[5] : 5.000000\t*(memblock + 5) : 5.000000\tfoo[5] : a\t*(foo + 5) : a\n"
     ]
    },
    {
     "name": "stdout",
     "output_type": "stream",
     "text": [
      "array[6] : 6.000000\t*(memblock + 6) : 6.000000\tfoo[6] : r\t*(foo + 6) : r\n"
     ]
    },
    {
     "name": "stdout",
     "output_type": "stream",
     "text": [
      "array[7] : 7.000000\t*(memblock + 7) : 7.000000\tfoo[7] :  \t*(foo + 7) :  \n"
     ]
    },
    {
     "name": "stdout",
     "output_type": "stream",
     "text": [
      "array[8] : 8.000000\t*(memblock + 8) : 8.000000\tfoo[8] : .\t*(foo + 8) : .\n"
     ]
    },
    {
     "name": "stdout",
     "output_type": "stream",
     "text": [
      "array[9] : 9.000000\t*(memblock + 9) : 9.000000\tfoo[9] : \u0000\t*(foo + 9) : \u0000\n"
     ]
    },
    {
     "name": "stdout",
     "output_type": "stream",
     "text": [
      "array[10] : 0.000000\t*(memblock + 10) : 0.000000\tfoo[10] : a\t*(foo + 10) : a\n"
     ]
    },
    {
     "name": "stdout",
     "output_type": "stream",
     "text": [
      "array[11] : 0.000000\t*(memblock + 11) : 0.000000\tfoo[11] : r\t*(foo + 11) : r\n"
     ]
    },
    {
     "name": "stdout",
     "output_type": "stream",
     "text": [
      "array[12] : 0.000000\t*(memblock + 12) : 279522120914423513088.000000\tfoo[12] : r\t*(foo + 12) : r\n"
     ]
    }
   ],
   "source": [
    "./src/arrays/arrays"
   ]
  },
  {
   "cell_type": "markdown",
   "metadata": {
    "collapsed": false
   },
   "source": [
    "###### **Malloc and Free**"
   ]
  },
  {
   "cell_type": "code",
   "execution_count": 0,
   "metadata": {
    "collapsed": false
   },
   "outputs": [
   ],
   "source": [
   ]
  }
 ],
 "metadata": {
  "kernelspec": {
   "display_name": "Bash (Linux)",
   "language": "bash",
   "name": "bash"
  },
  "language_info": {
   "codemirror_mode": "shell",
   "file_extension": ".sh",
   "mimetype": "text/x-sh",
   "name": "bash"
  }
 },
 "nbformat": 4,
 "nbformat_minor": 0
}