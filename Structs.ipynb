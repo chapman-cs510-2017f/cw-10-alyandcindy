{
 "cells": [
  {
   "cell_type": "markdown",
   "metadata": {
    "collapsed": false
   },
   "source": [
    "Name: Aly Baughman, Cynthia Parks \n",
    "\n",
    "Student ID: 1923165, 2303535 \n",
    "\n",
    "Email: baugh107@mail.chapman.edu, cparks@chapman.edu \n",
    "\n",
    "Course: CS510 Fall 2017 \n",
    "\n",
    "Assignment: Classwork 10"
   ]
  },
  {
   "cell_type": "markdown",
   "metadata": {
    "collapsed": false
   },
   "source": [
    "### Structs.ipynb Intructions\n",
    "\n",
    "Examine the source code in src/structs carefully. Compile and run it.\n",
    "In a Jupyter notebook Structs.ipynb, describe what print_structs does in detail. \n",
    "\n",
    "Answer the following questions:\n",
    "\n",
    "Explain the difference between \"pass by value\" and \"pass by reference\" in your own words. Support your explanation with concrete examples from the program output.\n",
    "\n",
    "Explain the difference between v.x and v->x for a struct v with field x."
   ]
  },
  {
   "cell_type": "markdown",
   "metadata": {
    "collapsed": false
   },
   "source": [
    "### Function of \"print_structs\"\n",
    "\n",
    "In the C programming language, the program print_structs demonstrates how to use structs. \n",
    "\n",
    "It does this by creating a vector with the x, y, and z components initially set to 0. A copy of the vector is made. Then the \"pass by value\" changes the initial value of 0 to 15."
   ]
  }
 ],
 "metadata": {
  "kernelspec": {
   "display_name": "Python 3 (Anaconda)",
   "language": "python",
   "name": "anaconda3"
  },
  "language_info": {
   "codemirror_mode": {
    "name": "ipython",
    "version": 3
   },
   "file_extension": ".py",
   "mimetype": "text/x-python",
   "name": "python",
   "nbconvert_exporter": "python",
   "pygments_lexer": "ipython3",
   "version": "3.5.4"
  }
 },
 "nbformat": 4,
 "nbformat_minor": 0
}