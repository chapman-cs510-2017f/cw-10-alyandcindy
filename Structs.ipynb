{
 "cells": [
  {
   "cell_type": "markdown",
   "metadata": {
    "collapsed": false
   },
   "source": [
    "Name: Aly Baughman, Cynthia Parks \n",
    "\n",
    "Student ID: 1923165, 2303535 \n",
    "\n",
    "Email: baugh107@mail.chapman.edu, cparks@chapman.edu \n",
    "\n",
    "Course: CS510 Fall 2017 \n",
    "\n",
    "Assignment: Classwork 10 "
   ]
  },
  {
   "cell_type": "markdown",
   "metadata": {
    "collapsed": false
   },
   "source": [
    "## Function of \"print_structs\"\n",
    "\n",
    "In the C programming language, the program print_structs demonstrates how to use structs. \n",
    "\n",
    "**The difference between \"pass by value\" and \"pass by reference\":**\n",
    "\n",
    "The program demonstrates how to use structs by creating a vector with the x, y, and z components initially set to 0. A copy of the vector is made. Then the \"pass by value\" changes the initial value of 0 to 15. The original vector is printed, along with the vector where the change is made. The original vector is printed to show that no changes were made to that vector, only to the new copy. When this copy was made, a 2D vector was created with x and y components, initialized to be 0. The setVec2 function is used to change the components from the initial value 0. Then the \"pass by reference\" changes the values, and these values are modified in memory. The original 2Vector is printed along with the original after modification. This shows that the original for the 2D vector is modified, where with \"pass by value\" the original was not modified, only a new copy of the original vector was modified.\n",
    "\n",
    "**The difference between v.x and v->x for a struct v with field x:**\n",
    "\n",
    "While v.x changes the x component of the copy of the vector v, v->x changes the memory directly of the x component for vector v.\n"
   ]
  },
  {
   "cell_type": "markdown",
   "metadata": {
    "collapsed": false
   },
   "source": [
    "Input:\n",
    "``` python\n",
    "./src/structs/print_structs\n",
    "```\n",
    "\n",
    "Output:\n",
    "\n",
    "\n",
    "``` python \n",
    "-----Pass by value test-----\n",
    "Original 3 vector:\n",
    "3Vector : [0.000000, 0.000000, 0.000000]\n",
    "Original 3 vector after modification:\n",
    "3Vector : [0.000000, 0.000000, 0.000000]\n",
    "New 3 vector after modification:\n",
    "3Vector : [15.000000, 0.000000, 0.000000]\n",
    "-----Pass by reference test-----\n",
    "Original 2 vector:\n",
    "2Vector : [0.000000, 0.000000]\n",
    "Original 2 vector after modification:\n",
    "2Vector : [1.000000, 2.000000]\n",
    "    \n",
    "```"
   ]
  }
 ],
 "metadata": {
  "kernelspec": {
   "display_name": "Python 3 (Anaconda)",
   "language": "python",
   "name": "anaconda3"
  },
  "language_info": {
   "codemirror_mode": {
    "name": "ipython",
    "version": 3
   },
   "file_extension": ".py",
   "mimetype": "text/x-python",
   "name": "python",
   "nbconvert_exporter": "python",
   "pygments_lexer": "ipython3",
   "version": "3.5.4"
  }
 },
 "nbformat": 4,
 "nbformat_minor": 0
}