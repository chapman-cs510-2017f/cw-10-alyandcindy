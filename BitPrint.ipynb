{
 "cells": [
  {
   "cell_type": "markdown",
   "metadata": {
    "collapsed": false
   },
   "source": [
    "Name: Aly Baughman, Cynthia Parks\n",
    "Student ID: 1923165, 2303535\n",
    "Email: baugh107@mail.chapman.edu, cparks@chapman.edu\n",
    "Course: CS510 Fall 2017\n",
    "Assignment: Classwork 10"
   ]
  },
  {
   "cell_type": "markdown",
   "metadata": {
    "collapsed": false
   },
   "source": [
    "## **Print Types**"
   ]
  },
  {
   "cell_type": "markdown",
   "metadata": {
    "collapsed": false
   },
   "source": [
    "Print_types assigns a value to a variable, then initializes that variable into a variety of C integer types.  For example, the variable is set to be an int, long int, unassigned int, float, and double, to name a few.  After setting the variable to all these differnt types, print_types displays each type, the the size of that type, and the size of our variable in each type.  For example, if we set our variable to be 65, and print it's float statement, we get\n",
    "\n",
    "Float (4 bytes, 32 bits):  65.000000 : 01000010100000100000000000000000\n",
    "\n",
    "When we test this for different upper/lower case letters, and numbers represented as characters, we get the following results."
   ]
  },
  {
   "cell_type": "markdown",
   "metadata": {
    "collapsed": false
   },
   "source": [
    "#### The integer value of 'A' ends up being 65, shown below.  Additionally, 'Z' is 90, 'a' is 97, and 'z' is 122."
   ]
  },
  {
   "cell_type": "code",
   "execution_count": 10,
   "metadata": {
    "collapsed": false,
    "scrolled": true
   },
   "outputs": [
    {
     "name": "stdout",
     "output_type": "stream",
     "text": [
      "Usage: ./print_types uint\n"
     ]
    },
    {
     "name": "stdout",
     "output_type": "stream",
     "text": [
      " where uint is an unsigned integer\n"
     ]
    },
    {
     "name": "stdout",
     "output_type": "stream",
     "text": [
      "\n"
     ]
    },
    {
     "name": "stdout",
     "output_type": "stream",
     "text": [
      "Using default unsigned integer: 65\n"
     ]
    },
    {
     "name": "stdout",
     "output_type": "stream",
     "text": [
      "\n"
     ]
    },
    {
     "name": "stdout",
     "output_type": "stream",
     "text": [
      "Character (1 bytes, 8 bits):\n"
     ]
    },
    {
     "name": "stdout",
     "output_type": "stream",
     "text": [
      "   A : 01000001\n"
     ]
    },
    {
     "name": "stdout",
     "output_type": "stream",
     "text": [
      "Unsigned character (1 bytes, 8 bits):\n"
     ]
    },
    {
     "name": "stdout",
     "output_type": "stream",
     "text": [
      "   65 : 01000001\n"
     ]
    },
    {
     "name": "stdout",
     "output_type": "stream",
     "text": [
      "Short Integer (2 bytes, 16 bits):\n"
     ]
    },
    {
     "name": "stdout",
     "output_type": "stream",
     "text": [
      "   65 : 0000000001000001\n"
     ]
    },
    {
     "name": "stdout",
     "output_type": "stream",
     "text": [
      "Integer (4 bytes, 32 bits):\n"
     ]
    },
    {
     "name": "stdout",
     "output_type": "stream",
     "text": [
      "   65 : 00000000000000000000000001000001\n"
     ]
    },
    {
     "name": "stdout",
     "output_type": "stream",
     "text": [
      "Long Integer (8 bytes, 64 bits):\n"
     ]
    },
    {
     "name": "stdout",
     "output_type": "stream",
     "text": [
      "   65 : 0000000000000000000000000000000000000000000000000000000001000001\n"
     ]
    },
    {
     "name": "stdout",
     "output_type": "stream",
     "text": [
      "Unsigned Integer (4 bytes, 32 bits):\n"
     ]
    },
    {
     "name": "stdout",
     "output_type": "stream",
     "text": [
      "   65 : 00000000000000000000000001000001\n"
     ]
    },
    {
     "name": "stdout",
     "output_type": "stream",
     "text": [
      "Unsigned Long Integer (8 bytes, 64 bits):\n"
     ]
    },
    {
     "name": "stdout",
     "output_type": "stream",
     "text": [
      "   65 : 0000000000000000000000000000000000000000000000000000000001000001\n"
     ]
    },
    {
     "name": "stdout",
     "output_type": "stream",
     "text": [
      "Unsigned Long Long Integer (8 bytes, 64 bits):\n"
     ]
    },
    {
     "name": "stdout",
     "output_type": "stream",
     "text": [
      "   65 : 0000000000000000000000000000000000000000000000000000000001000001\n"
     ]
    },
    {
     "name": "stdout",
     "output_type": "stream",
     "text": [
      "Float (4 bytes, 32 bits):\n"
     ]
    },
    {
     "name": "stdout",
     "output_type": "stream",
     "text": [
      "   65.000000 : 01000010100000100000000000000000\n"
     ]
    },
    {
     "name": "stdout",
     "output_type": "stream",
     "text": [
      "Double (8 bytes, 64 bits):\n"
     ]
    },
    {
     "name": "stdout",
     "output_type": "stream",
     "text": [
      "   65.000000 : 0100000001010000010000000000000000000000000000000000000000000000\n"
     ]
    },
    {
     "name": "stdout",
     "output_type": "stream",
     "text": [
      "Long Double (16 bytes, 128 bits):\n"
     ]
    },
    {
     "name": "stdout",
     "output_type": "stream",
     "text": [
      "   65.000000 : 00000000000000000000000000000000000000000100000001000000000001011000001000000000000000000000000000000000000000000000000000000000\n"
     ]
    }
   ],
   "source": [
    "./print_types"
   ]
  },
  {
   "cell_type": "markdown",
   "metadata": {
    "collapsed": false
   },
   "source": [
    "#### The integer value of '0' ends up being 48, shown below.  In addition, '1' is 49, and '9' is 57."
   ]
  },
  {
   "cell_type": "code",
   "execution_count": 17,
   "metadata": {
    "collapsed": false
   },
   "outputs": [
    {
     "name": "stdout",
     "output_type": "stream",
     "text": [
      "Usage: ./print_types uint\n"
     ]
    },
    {
     "name": "stdout",
     "output_type": "stream",
     "text": [
      " where uint is an unsigned integer\n"
     ]
    },
    {
     "name": "stdout",
     "output_type": "stream",
     "text": [
      "\n"
     ]
    },
    {
     "name": "stdout",
     "output_type": "stream",
     "text": [
      "Using default unsigned integer: 48\n"
     ]
    },
    {
     "name": "stdout",
     "output_type": "stream",
     "text": [
      "\n"
     ]
    },
    {
     "name": "stdout",
     "output_type": "stream",
     "text": [
      "Character (1 bytes, 8 bits):\n"
     ]
    },
    {
     "name": "stdout",
     "output_type": "stream",
     "text": [
      "   0 : 00110000\n"
     ]
    },
    {
     "name": "stdout",
     "output_type": "stream",
     "text": [
      "Unsigned character (1 bytes, 8 bits):\n"
     ]
    },
    {
     "name": "stdout",
     "output_type": "stream",
     "text": [
      "   48 : 00110000\n"
     ]
    },
    {
     "name": "stdout",
     "output_type": "stream",
     "text": [
      "Short Integer (2 bytes, 16 bits):\n"
     ]
    },
    {
     "name": "stdout",
     "output_type": "stream",
     "text": [
      "   48 : 0000000000110000\n"
     ]
    },
    {
     "name": "stdout",
     "output_type": "stream",
     "text": [
      "Integer (4 bytes, 32 bits):\n"
     ]
    },
    {
     "name": "stdout",
     "output_type": "stream",
     "text": [
      "   48 : 00000000000000000000000000110000\n"
     ]
    },
    {
     "name": "stdout",
     "output_type": "stream",
     "text": [
      "Long Integer (8 bytes, 64 bits):\n"
     ]
    },
    {
     "name": "stdout",
     "output_type": "stream",
     "text": [
      "   48 : 0000000000000000000000000000000000000000000000000000000000110000\n"
     ]
    },
    {
     "name": "stdout",
     "output_type": "stream",
     "text": [
      "Unsigned Integer (4 bytes, 32 bits):\n"
     ]
    },
    {
     "name": "stdout",
     "output_type": "stream",
     "text": [
      "   48 : 00000000000000000000000000110000\n"
     ]
    },
    {
     "name": "stdout",
     "output_type": "stream",
     "text": [
      "Unsigned Long Integer (8 bytes, 64 bits):\n"
     ]
    },
    {
     "name": "stdout",
     "output_type": "stream",
     "text": [
      "   48 : 0000000000000000000000000000000000000000000000000000000000110000\n"
     ]
    },
    {
     "name": "stdout",
     "output_type": "stream",
     "text": [
      "Unsigned Long Long Integer (8 bytes, 64 bits):\n"
     ]
    },
    {
     "name": "stdout",
     "output_type": "stream",
     "text": [
      "   48 : 0000000000000000000000000000000000000000000000000000000000110000\n"
     ]
    },
    {
     "name": "stdout",
     "output_type": "stream",
     "text": [
      "Float (4 bytes, 32 bits):\n"
     ]
    },
    {
     "name": "stdout",
     "output_type": "stream",
     "text": [
      "   48.000000 : 01000010010000000000000000000000\n"
     ]
    },
    {
     "name": "stdout",
     "output_type": "stream",
     "text": [
      "Double (8 bytes, 64 bits):\n"
     ]
    },
    {
     "name": "stdout",
     "output_type": "stream",
     "text": [
      "   48.000000 : 0100000001001000000000000000000000000000000000000000000000000000\n"
     ]
    },
    {
     "name": "stdout",
     "output_type": "stream",
     "text": [
      "Long Double (16 bytes, 128 bits):\n"
     ]
    },
    {
     "name": "stdout",
     "output_type": "stream",
     "text": [
      "   48.000000 : 00000000000000000000000000000000000000000100000001000000000001001100000000000000000000000000000000000000000000000000000000000000\n"
     ]
    }
   ],
   "source": [
    "./print_types"
   ]
  },
  {
   "cell_type": "markdown",
   "metadata": {
    "collapsed": false
   },
   "source": [
    "### **2D Array of Complex Integers**"
   ]
  },
  {
   "cell_type": "markdown",
   "metadata": {
    "collapsed": false
   },
   "source": [
    "Let's think about a 2D array containing 1000x1000 complex numbers.  If both the real and imaginary parts of these numbers were shorts, how many megabytes of memory would be required?  What if they were long doubles?\n",
    "\n",
    "Since there are going to be 100,000,000 complex numbers total, each with 2 components, we'll end up having 200,000,000 components total.\n",
    "\n",
    "**Shorts:** If each of these components are shorts, then they each take up 2 bytes of memory.  This is 400,000,000 bytes total, which is equivalent to 400 megabytes.\n",
    "\n",
    "**Long Doubles:** If each of these compenents are long doubles, then they take up 16 bytes of memory each.  This gives us 3,200,000,000 bytes, which is equivalent to 3,200 megabytes."
   ]
  },
  {
   "cell_type": "markdown",
   "metadata": {
    "collapsed": false
   },
   "source": [
    "### **Unsigned and Signed Bit Strings**"
   ]
  },
  {
   "cell_type": "markdown",
   "metadata": {
    "collapsed": false
   },
   "source": [
    "If the numbers are positive then unsigned and signed bit strings for the numbers will be the same.  It's when we approach negative numbers that we find an issue.  For signed bit strings, negative numbers are represented with the far left bit being flipped on to represent the negative sign.  However, it is more beneficial for negatives to be represented as unsigned integers because their algorithm for obtaining negative numbers helps us avoid complications brought on by signed negative integers.  To create an unsigned negative number, we first flip all the bits.  For example, 2 = 0010, so once we flip the bits we get 1101.  The final step is to add 1 to the end (on the far right).  When we do this we end up with -2 = 1110.  Now when we add 0010 + 1110 we get 0000 which is 0."
   ]
  },
  {
   "cell_type": "code",
   "execution_count": 0,
   "metadata": {
    "collapsed": false
   },
   "outputs": [
   ],
   "source": [
   ]
  }
 ],
 "metadata": {
  "kernelspec": {
   "display_name": "Bash (Linux)",
   "language": "bash",
   "name": "bash"
  },
  "language_info": {
   "codemirror_mode": "shell",
   "file_extension": ".sh",
   "mimetype": "text/x-sh",
   "name": "bash"
  }
 },
 "nbformat": 4,
 "nbformat_minor": 0
}